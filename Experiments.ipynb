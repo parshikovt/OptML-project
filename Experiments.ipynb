{
 "cells": [
  {
   "cell_type": "code",
   "execution_count": 1,
   "id": "0717352d",
   "metadata": {},
   "outputs": [],
   "source": [
    "import torch\n",
    "from torch import nn\n",
    "import torch.nn.functional as F\n",
    "import torchvision.transforms as transforms\n",
    "import torchvision.datasets as datasets\n",
    "\n",
    "from lib.models import ConvNet\n",
    "from lib.train import train\n",
    "from lib.BB import BB\n",
    "from lib.AdaHessian import AdaHessian\n",
    "import warnings\n",
    "warnings.filterwarnings(\"ignore\")"
   ]
  },
  {
   "cell_type": "code",
   "execution_count": 2,
   "id": "51079b91",
   "metadata": {},
   "outputs": [],
   "source": [
    "transform = transforms.Compose(\n",
    "    [transforms.ToTensor(),\n",
    "     transforms.Normalize((0.5, 0.5, 0.5), (0.5, 0.5, 0.5))])"
   ]
  },
  {
   "cell_type": "code",
   "execution_count": 3,
   "id": "1b3bde6c",
   "metadata": {},
   "outputs": [
    {
     "name": "stdout",
     "output_type": "stream",
     "text": [
      "Files already downloaded and verified\n",
      "Files already downloaded and verified\n"
     ]
    }
   ],
   "source": [
    "cifar_trainset = datasets.CIFAR10(root='data', train=True, download=True, transform=transform)\n",
    "cifar_testset = datasets.CIFAR10(root='data', train=False, download=True, transform=transform)"
   ]
  },
  {
   "cell_type": "code",
   "execution_count": 4,
   "id": "3625d7d8",
   "metadata": {},
   "outputs": [
    {
     "data": {
      "text/plain": [
       "(50000, 10000)"
      ]
     },
     "execution_count": 4,
     "metadata": {},
     "output_type": "execute_result"
    }
   ],
   "source": [
    "len(cifar_trainset), len(cifar_testset)"
   ]
  },
  {
   "cell_type": "code",
   "execution_count": 5,
   "id": "25ae64b0",
   "metadata": {},
   "outputs": [],
   "source": [
    "train_dataloader = torch.utils.data.DataLoader(cifar_trainset, batch_size=256, shuffle=True)\n",
    "valid_dataloader = torch.utils.data.DataLoader(cifar_testset, batch_size=256, shuffle=False)"
   ]
  },
  {
   "cell_type": "code",
   "execution_count": 6,
   "id": "011b0b08",
   "metadata": {},
   "outputs": [],
   "source": [
    "device = 'cuda:1'"
   ]
  },
  {
   "cell_type": "code",
   "execution_count": 13,
   "id": "46ae8971",
   "metadata": {},
   "outputs": [],
   "source": [
    "optims = ['Adam', 'SGD', \n",
    "          'SGD momentum', \n",
    "          'LBFGS', 'AdaHessian', 'BB']"
   ]
  },
  {
   "cell_type": "code",
   "execution_count": 17,
   "id": "c4791917",
   "metadata": {},
   "outputs": [],
   "source": [
    "def init_optim(optim, model):\n",
    "    if optim == 'Adam':\n",
    "        optimizer = torch.optim.Adam(model.parameters(), lr = 5e-4)\n",
    "    elif optim == 'SGD':\n",
    "        optimizer = torch.optim.SGD(model.parameters(), lr = 1e-2)\n",
    "    elif optim == 'momentum':\n",
    "        optimizer = torch.optim.SGD(model.parameters(), momentum = 0.9, lr = 1e-2)\n",
    "    elif optim == 'LBFGS':\n",
    "        optimizer = torch.optim.LBFGS(model.parameters(), lr = 1e-2)\n",
    "    elif optim == 'AdaHessian':\n",
    "        optimizer = AdaHessian(model.parameters(), lr = 1e-1)\n",
    "    elif optim == 'BB':\n",
    "        optimizer = BB(model.parameters(), lr = 5e-3)\n",
    "    return optimizer"
   ]
  },
  {
   "cell_type": "code",
   "execution_count": null,
   "id": "ecb0af04",
   "metadata": {
    "scrolled": true
   },
   "outputs": [
    {
     "data": {
      "application/vnd.jupyter.widget-view+json": {
       "model_id": "0d8eea95f2934b89a508f8ec1c97422f",
       "version_major": 2,
       "version_minor": 0
      },
      "text/plain": [
       "  0%|          | 0/40 [00:00<?, ?it/s]"
      ]
     },
     "metadata": {},
     "output_type": "display_data"
    },
    {
     "name": "stdout",
     "output_type": "stream",
     "text": [
      "Epoch: 0, train_loss: 1.770034415989506,valid_loss: 1.5421645849943162, f1: 0.4458195387566226, time: 6.916186332702637\n",
      "Epoch: 1, train_loss: 1.4667656531139297,valid_loss: 1.3997576147317887, f1: 0.49321649222983616, time: 7.240732908248901\n",
      "Epoch: 2, train_loss: 1.3683408462271398,valid_loss: 1.3296643882989883, f1: 0.5206783041172889, time: 6.933217287063599\n",
      "Epoch: 3, train_loss: 1.2970743811860377,valid_loss: 1.2877200186252593, f1: 0.5319954708996933, time: 6.8770763874053955\n",
      "Epoch: 4, train_loss: 1.2321072385019185,valid_loss: 1.230328980088234, f1: 0.5472215909248377, time: 6.906421661376953\n",
      "Epoch: 5, train_loss: 1.1824650731013746,valid_loss: 1.190648365020752, f1: 0.5776691858351645, time: 7.02487325668335\n",
      "Epoch: 6, train_loss: 1.1285844630732829,valid_loss: 1.1552686363458633, f1: 0.5879955124074938, time: 7.0372560024261475\n",
      "Epoch: 7, train_loss: 1.084281059552212,valid_loss: 1.1357782155275344, f1: 0.5894508698818235, time: 7.130155801773071\n",
      "Epoch: 8, train_loss: 1.0498686657876384,valid_loss: 1.1106036201119422, f1: 0.6072035332329042, time: 6.885815143585205\n",
      "Epoch: 9, train_loss: 1.015291121237132,valid_loss: 1.137592725455761, f1: 0.5933078085868404, time: 6.892456769943237\n",
      "Epoch: 10, train_loss: 0.9811136312022501,valid_loss: 1.0743502423167228, f1: 0.6194958640099474, time: 6.876400470733643\n",
      "Epoch: 11, train_loss: 0.9415822387958059,valid_loss: 1.0741251841187478, f1: 0.6163555814270788, time: 6.886033535003662\n",
      "Epoch: 12, train_loss: 0.909065874863644,valid_loss: 1.0858739838004112, f1: 0.6251247077712627, time: 6.880343675613403\n",
      "Epoch: 13, train_loss: 0.8831985428625223,valid_loss: 1.0657392933964729, f1: 0.6305359678225337, time: 6.924670457839966\n",
      "Epoch: 14, train_loss: 0.8483399703186385,valid_loss: 1.058634403347969, f1: 0.6328260946660761, time: 6.899744510650635\n",
      "Epoch: 15, train_loss: 0.8132148001875196,valid_loss: 1.0679194808006287, f1: 0.6296456644672235, time: 6.894071578979492\n",
      "Epoch: 16, train_loss: 0.7857086840940981,valid_loss: 1.077020838856697, f1: 0.6317788002825859, time: 7.41707968711853\n",
      "Epoch: 17, train_loss: 0.7495234462679649,valid_loss: 1.0523236304521562, f1: 0.6352428049223058, time: 6.8517165184021\n",
      "Epoch: 18, train_loss: 0.7152467579865942,valid_loss: 1.0577622830867768, f1: 0.6374239098025059, time: 6.939978361129761\n",
      "Epoch: 19, train_loss: 0.6863145651865978,valid_loss: 1.0922831103205681, f1: 0.6386592644538329, time: 6.880472421646118\n",
      "Epoch: 20, train_loss: 0.6549252305103808,valid_loss: 1.0883913919329644, f1: 0.6349273856602504, time: 7.064985513687134\n",
      "Epoch: 21, train_loss: 0.6217540517753485,valid_loss: 1.0928800463676454, f1: 0.6422521175421905, time: 7.38639497756958\n",
      "Epoch: 22, train_loss: 0.5895316562786395,valid_loss: 1.1020965874195099, f1: 0.6446023661121424, time: 6.908126354217529\n",
      "Epoch: 23, train_loss: 0.5566346949460556,valid_loss: 1.1043319702148438, f1: 0.6410980689116493, time: 7.036072015762329\n",
      "Epoch: 24, train_loss: 0.520650827763032,valid_loss: 1.1602930948138237, f1: 0.6376063157194776, time: 6.896436929702759\n",
      "Epoch: 25, train_loss: 0.49705471554581,valid_loss: 1.160274176299572, f1: 0.6428243477918797, time: 6.879022836685181\n",
      "Epoch: 26, train_loss: 0.46055816843801617,valid_loss: 1.1698327347636224, f1: 0.6431630508120805, time: 7.0610785484313965\n",
      "Epoch: 27, train_loss: 0.42353878170251846,valid_loss: 1.248094990849495, f1: 0.6401317134402296, time: 7.0336596965789795\n",
      "Epoch: 28, train_loss: 0.39538323362262884,valid_loss: 1.2618035584688188, f1: 0.6399987718002453, time: 6.990596771240234\n",
      "Epoch: 29, train_loss: 0.36270339444887884,valid_loss: 1.2840571954846383, f1: 0.6365216658848528, time: 6.8842363357543945\n",
      "Epoch: 30, train_loss: 0.33178662425097155,valid_loss: 1.3211456507444381, f1: 0.6396960173904446, time: 7.0213141441345215\n",
      "Epoch: 31, train_loss: 0.3016936420177927,valid_loss: 1.3711535304784774, f1: 0.6357704272115526, time: 7.074340343475342\n"
     ]
    }
   ],
   "source": [
    "results = {}\n",
    "criterion = nn.CrossEntropyLoss()\n",
    "for optim in optims:\n",
    "    model = ConvNet()\n",
    "    model.to(device)\n",
    "    optimizer = init_optim(optim, model)\n",
    "    res = train(model, optimizer, criterion, train_dataloader, \n",
    "            valid_dataloader, device, optim=optim, epochs=40, verbose=True)\n",
    "    results[optim] = res"
   ]
  },
  {
   "cell_type": "code",
   "execution_count": null,
   "id": "9f7f6ede",
   "metadata": {},
   "outputs": [],
   "source": []
  }
 ],
 "metadata": {
  "kernelspec": {
   "display_name": "Python 3 (ipykernel)",
   "language": "python",
   "name": "python3"
  },
  "language_info": {
   "codemirror_mode": {
    "name": "ipython",
    "version": 3
   },
   "file_extension": ".py",
   "mimetype": "text/x-python",
   "name": "python",
   "nbconvert_exporter": "python",
   "pygments_lexer": "ipython3",
   "version": "3.7.11"
  }
 },
 "nbformat": 4,
 "nbformat_minor": 5
}
