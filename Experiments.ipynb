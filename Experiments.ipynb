{
 "cells": [
  {
   "cell_type": "code",
   "execution_count": 1,
   "id": "0717352d",
   "metadata": {},
   "outputs": [],
   "source": [
    "import torch\n",
    "from torch import nn\n",
    "import torch.nn.functional as F\n",
    "import torchvision.transforms as transforms\n",
    "import torchvision.datasets as datasets\n",
    "\n",
    "from lib.models import ConvNet\n",
    "from lib.train import train\n",
    "from lib.BB import BB\n",
    "from lib.AdaHessian import AdaHessian\n",
    "import warnings\n",
    "warnings.filterwarnings(\"ignore\")"
   ]
  },
  {
   "cell_type": "code",
   "execution_count": 2,
   "id": "51079b91",
   "metadata": {},
   "outputs": [],
   "source": [
    "transform = transforms.Compose(\n",
    "    [transforms.ToTensor(),\n",
    "     transforms.Normalize((0.5, 0.5, 0.5), (0.5, 0.5, 0.5))])"
   ]
  },
  {
   "cell_type": "code",
   "execution_count": 3,
   "id": "1b3bde6c",
   "metadata": {},
   "outputs": [
    {
     "name": "stdout",
     "output_type": "stream",
     "text": [
      "Files already downloaded and verified\n",
      "Files already downloaded and verified\n"
     ]
    }
   ],
   "source": [
    "cifar_trainset = datasets.CIFAR10(root='data', train=True, download=True, transform=transform)\n",
    "cifar_testset = datasets.CIFAR10(root='data', train=False, download=True, transform=transform)"
   ]
  },
  {
   "cell_type": "code",
   "execution_count": 4,
   "id": "3625d7d8",
   "metadata": {},
   "outputs": [
    {
     "data": {
      "text/plain": [
       "(50000, 10000)"
      ]
     },
     "execution_count": 4,
     "metadata": {},
     "output_type": "execute_result"
    }
   ],
   "source": [
    "len(cifar_trainset), len(cifar_testset)"
   ]
  },
  {
   "cell_type": "code",
   "execution_count": 5,
   "id": "25ae64b0",
   "metadata": {},
   "outputs": [],
   "source": [
    "train_dataloader = torch.utils.data.DataLoader(cifar_trainset, batch_size=256, shuffle=True)\n",
    "valid_dataloader = torch.utils.data.DataLoader(cifar_testset, batch_size=256, shuffle=False)"
   ]
  },
  {
   "cell_type": "code",
   "execution_count": 6,
   "id": "011b0b08",
   "metadata": {},
   "outputs": [],
   "source": [
    "device = 'cuda:1'"
   ]
  },
  {
   "cell_type": "code",
   "execution_count": 7,
   "id": "ccb7f78a",
   "metadata": {},
   "outputs": [],
   "source": [
    "model = ConvNet()\n",
    "model.to(device)\n",
    "criterion = nn.CrossEntropyLoss()"
   ]
  },
  {
   "cell_type": "code",
   "execution_count": 8,
   "id": "46ae8971",
   "metadata": {},
   "outputs": [],
   "source": [
    "optims = ['LBFGS', 'Adam', 'SGD', \n",
    "          'SGD momentum', \n",
    "          'LBFGS', 'AdaHessian', 'BB']"
   ]
  },
  {
   "cell_type": "code",
   "execution_count": 9,
   "id": "c4791917",
   "metadata": {},
   "outputs": [],
   "source": [
    "def init_optim(optim):\n",
    "    if optim == 'Adam':\n",
    "        optimizer = torch.optim.Adam(model.parameters(), lr = 5e-4)\n",
    "    elif optim == 'SGD':\n",
    "        optimizer = torch.optim.SGD(model.parameters(), lr = 1e-2)\n",
    "    elif optim == 'momentum':\n",
    "        optimizer = torch.optim.SGD(model.parameters(), momentum = 0.9, lr = 1e-2)\n",
    "    elif optim == 'LBFGS':\n",
    "        optimizer = torch.optim.LBFGS(model.parameters(), lr = 1e-3)\n",
    "    elif optim == 'AdaHessian':\n",
    "        optimizer = AdaHessian(model.parameters(), lr = 1e-1)\n",
    "    elif optim == 'BB':\n",
    "        optimizer = BB(model.parameters(), lr = 5e-3)\n",
    "    return optimizer"
   ]
  },
  {
   "cell_type": "code",
   "execution_count": 10,
   "id": "3f752535",
   "metadata": {},
   "outputs": [],
   "source": [
    "optimizer = torch.optim.LBFGS(model.parameters(), lr = 1e-3)"
   ]
  },
  {
   "cell_type": "code",
   "execution_count": null,
   "id": "65fdca6a",
   "metadata": {},
   "outputs": [
    {
     "data": {
      "application/vnd.jupyter.widget-view+json": {
       "model_id": "41a946cb49374b6eb430b9bf65194892",
       "version_major": 2,
       "version_minor": 0
      },
      "text/plain": [
       "  0%|          | 0/20 [00:00<?, ?it/s]"
      ]
     },
     "metadata": {},
     "output_type": "display_data"
    }
   ],
   "source": [
    "res = train(model, optimizer, criterion, train_dataloader, \n",
    "            valid_dataloader, device, epochs=20, optim='LBFGS', verbose=True)"
   ]
  },
  {
   "cell_type": "code",
   "execution_count": null,
   "id": "ecb0af04",
   "metadata": {},
   "outputs": [],
   "source": [
    "results = {}\n",
    "for optim in optims:\n",
    "    optimizer = init_optim(optim)\n",
    "    start = timeit.timeit()\n",
    "    res = train(model, optimizer, criterion, train_dataloader, \n",
    "            valid_dataloader, device, optim=optim, epochs=20, verbose=False)\n",
    "    results[optim] = res"
   ]
  },
  {
   "cell_type": "code",
   "execution_count": null,
   "id": "67d15c95",
   "metadata": {},
   "outputs": [],
   "source": [
    "results"
   ]
  },
  {
   "cell_type": "code",
   "execution_count": null,
   "id": "9f7f6ede",
   "metadata": {},
   "outputs": [],
   "source": []
  }
 ],
 "metadata": {
  "kernelspec": {
   "display_name": "Python 3 (ipykernel)",
   "language": "python",
   "name": "python3"
  },
  "language_info": {
   "codemirror_mode": {
    "name": "ipython",
    "version": 3
   },
   "file_extension": ".py",
   "mimetype": "text/x-python",
   "name": "python",
   "nbconvert_exporter": "python",
   "pygments_lexer": "ipython3",
   "version": "3.7.11"
  }
 },
 "nbformat": 4,
 "nbformat_minor": 5
}
